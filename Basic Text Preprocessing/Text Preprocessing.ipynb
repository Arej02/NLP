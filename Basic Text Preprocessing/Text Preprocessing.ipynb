{
 "cells": [
  {
   "cell_type": "code",
   "execution_count": 1,
   "id": "7f6cb616-dc15-4f81-b688-f0028fbdddcd",
   "metadata": {},
   "outputs": [],
   "source": [
    "import pandas as pd\n",
    "import numpy as np\n",
    "import string"
   ]
  },
  {
   "cell_type": "code",
   "execution_count": 2,
   "id": "af6f11ad-7e65-49e6-9dce-f08847092d0e",
   "metadata": {},
   "outputs": [
    {
     "data": {
      "text/html": [
       "<div>\n",
       "<style scoped>\n",
       "    .dataframe tbody tr th:only-of-type {\n",
       "        vertical-align: middle;\n",
       "    }\n",
       "\n",
       "    .dataframe tbody tr th {\n",
       "        vertical-align: top;\n",
       "    }\n",
       "\n",
       "    .dataframe thead th {\n",
       "        text-align: right;\n",
       "    }\n",
       "</style>\n",
       "<table border=\"1\" class=\"dataframe\">\n",
       "  <thead>\n",
       "    <tr style=\"text-align: right;\">\n",
       "      <th></th>\n",
       "      <th>review</th>\n",
       "      <th>sentiment</th>\n",
       "    </tr>\n",
       "  </thead>\n",
       "  <tbody>\n",
       "    <tr>\n",
       "      <th>42186</th>\n",
       "      <td>My best guess is this piece of work will come ...</td>\n",
       "      <td>negative</td>\n",
       "    </tr>\n",
       "    <tr>\n",
       "      <th>23911</th>\n",
       "      <td>The comparison to Sleuth, the earlier stage-pl...</td>\n",
       "      <td>positive</td>\n",
       "    </tr>\n",
       "    <tr>\n",
       "      <th>2740</th>\n",
       "      <td>James Cameron's 'Titanic' is essentially a rom...</td>\n",
       "      <td>positive</td>\n",
       "    </tr>\n",
       "    <tr>\n",
       "      <th>5144</th>\n",
       "      <td>Warning! Spoilers ahead!&lt;br /&gt;&lt;br /&gt; SPOILERS&lt;...</td>\n",
       "      <td>positive</td>\n",
       "    </tr>\n",
       "  </tbody>\n",
       "</table>\n",
       "</div>"
      ],
      "text/plain": [
       "                                                  review sentiment\n",
       "42186  My best guess is this piece of work will come ...  negative\n",
       "23911  The comparison to Sleuth, the earlier stage-pl...  positive\n",
       "2740   James Cameron's 'Titanic' is essentially a rom...  positive\n",
       "5144   Warning! Spoilers ahead!<br /><br /> SPOILERS<...  positive"
      ]
     },
     "execution_count": 2,
     "metadata": {},
     "output_type": "execute_result"
    }
   ],
   "source": [
    "imbd=pd.read_csv(\"IMDB Dataset.csv\")\n",
    "imbd.sample(4)"
   ]
  },
  {
   "cell_type": "code",
   "execution_count": 3,
   "id": "4d940f15-92f2-48e0-ba22-682e4a2c2dc9",
   "metadata": {},
   "outputs": [
    {
     "data": {
      "text/plain": [
       "'I\\'m allowed to write 1000 words about this film, but one word could suffice: bizarre. Hubby and I didn\\'t laugh so much as gawk at this truly dreadful movie. We kept looking at each other with our best \"What the...?\" expressions. There is no way to adequately describe this movie. Killer tomatoes were funny, but this is just sick. What kind of mind produces images like these and then puts them on film for others to see? What kind of mind includes innocent children in this weird, weird movie and then packages it as if it is appropriate for children? Parents, whatever you do, if your child still believes in Santa, don\\'t let him/her see this movie. Preteens can watch it -- probably with \"What the...?\" expressions on their faces. If you decide to inflict this movie on others, you might want to spike their eggnog.<br /><br />Quite possibly the worst film ever made.'"
      ]
     },
     "execution_count": 3,
     "metadata": {},
     "output_type": "execute_result"
    }
   ],
   "source": [
    "imbd['review'][22560]"
   ]
  },
  {
   "cell_type": "markdown",
   "id": "6428d328-4b00-41f4-a46d-afc9585db352",
   "metadata": {},
   "source": [
    "#### Lowercasing:"
   ]
  },
  {
   "cell_type": "code",
   "execution_count": 4,
   "id": "c328ed8f-4b71-4ee7-96df-6a3de1efd4a5",
   "metadata": {},
   "outputs": [
    {
     "data": {
      "text/plain": [
       "'i\\'m allowed to write 1000 words about this film, but one word could suffice: bizarre. hubby and i didn\\'t laugh so much as gawk at this truly dreadful movie. we kept looking at each other with our best \"what the...?\" expressions. there is no way to adequately describe this movie. killer tomatoes were funny, but this is just sick. what kind of mind produces images like these and then puts them on film for others to see? what kind of mind includes innocent children in this weird, weird movie and then packages it as if it is appropriate for children? parents, whatever you do, if your child still believes in santa, don\\'t let him/her see this movie. preteens can watch it -- probably with \"what the...?\" expressions on their faces. if you decide to inflict this movie on others, you might want to spike their eggnog.<br /><br />quite possibly the worst film ever made.'"
      ]
     },
     "execution_count": 4,
     "metadata": {},
     "output_type": "execute_result"
    }
   ],
   "source": [
    "imbd['review'][22560].lower()"
   ]
  },
  {
   "cell_type": "code",
   "execution_count": 5,
   "id": "ff85a0b2-ac7a-443a-94a5-3aa0a80659cf",
   "metadata": {},
   "outputs": [
    {
     "data": {
      "text/plain": [
       "'I\\'M Allowed To Write 1000 Words About This Film, But One Word Could Suffice: Bizarre. Hubby And I Didn\\'T Laugh So Much As Gawk At This Truly Dreadful Movie. We Kept Looking At Each Other With Our Best \"What The...?\" Expressions. There Is No Way To Adequately Describe This Movie. Killer Tomatoes Were Funny, But This Is Just Sick. What Kind Of Mind Produces Images Like These And Then Puts Them On Film For Others To See? What Kind Of Mind Includes Innocent Children In This Weird, Weird Movie And Then Packages It As If It Is Appropriate For Children? Parents, Whatever You Do, If Your Child Still Believes In Santa, Don\\'T Let Him/Her See This Movie. Preteens Can Watch It -- Probably With \"What The...?\" Expressions On Their Faces. If You Decide To Inflict This Movie On Others, You Might Want To Spike Their Eggnog.<Br /><Br />Quite Possibly The Worst Film Ever Made.'"
      ]
     },
     "execution_count": 5,
     "metadata": {},
     "output_type": "execute_result"
    }
   ],
   "source": [
    "imbd['review'][22560].title()"
   ]
  },
  {
   "cell_type": "code",
   "execution_count": 6,
   "id": "bedd486c-a8cf-4cde-ad27-0d175c95b5d4",
   "metadata": {},
   "outputs": [
    {
     "data": {
      "text/plain": [
       "'I\\'M ALLOWED TO WRITE 1000 WORDS ABOUT THIS FILM, BUT ONE WORD COULD SUFFICE: BIZARRE. HUBBY AND I DIDN\\'T LAUGH SO MUCH AS GAWK AT THIS TRULY DREADFUL MOVIE. WE KEPT LOOKING AT EACH OTHER WITH OUR BEST \"WHAT THE...?\" EXPRESSIONS. THERE IS NO WAY TO ADEQUATELY DESCRIBE THIS MOVIE. KILLER TOMATOES WERE FUNNY, BUT THIS IS JUST SICK. WHAT KIND OF MIND PRODUCES IMAGES LIKE THESE AND THEN PUTS THEM ON FILM FOR OTHERS TO SEE? WHAT KIND OF MIND INCLUDES INNOCENT CHILDREN IN THIS WEIRD, WEIRD MOVIE AND THEN PACKAGES IT AS IF IT IS APPROPRIATE FOR CHILDREN? PARENTS, WHATEVER YOU DO, IF YOUR CHILD STILL BELIEVES IN SANTA, DON\\'T LET HIM/HER SEE THIS MOVIE. PRETEENS CAN WATCH IT -- PROBABLY WITH \"WHAT THE...?\" EXPRESSIONS ON THEIR FACES. IF YOU DECIDE TO INFLICT THIS MOVIE ON OTHERS, YOU MIGHT WANT TO SPIKE THEIR EGGNOG.<BR /><BR />QUITE POSSIBLY THE WORST FILM EVER MADE.'"
      ]
     },
     "execution_count": 6,
     "metadata": {},
     "output_type": "execute_result"
    }
   ],
   "source": [
    "imbd['review'][22560].upper()"
   ]
  },
  {
   "cell_type": "code",
   "execution_count": 7,
   "id": "2e4aa084-9d08-4553-977d-b57fb874012a",
   "metadata": {},
   "outputs": [
    {
     "data": {
      "text/plain": [
       "0        one of the other reviewers has mentioned that ...\n",
       "1        a wonderful little production. <br /><br />the...\n",
       "2        i thought this was a wonderful way to spend ti...\n",
       "3        basically there's a family where a little boy ...\n",
       "4        petter mattei's \"love in the time of money\" is...\n",
       "                               ...                        \n",
       "49995    i thought this movie did a down right good job...\n",
       "49996    bad plot, bad dialogue, bad acting, idiotic di...\n",
       "49997    i am a catholic taught in parochial elementary...\n",
       "49998    i'm going to have to disagree with the previou...\n",
       "49999    no one expects the star trek movies to be high...\n",
       "Name: review, Length: 50000, dtype: object"
      ]
     },
     "execution_count": 7,
     "metadata": {},
     "output_type": "execute_result"
    }
   ],
   "source": [
    "#To lower the entire corpus you have to use str.lower()\n",
    "imbd['review'].str.lower()"
   ]
  },
  {
   "cell_type": "markdown",
   "id": "fc20c695-7f33-4008-adce-7d3e987fd299",
   "metadata": {},
   "source": [
    "#### Remove Punctuation:"
   ]
  },
  {
   "cell_type": "code",
   "execution_count": 8,
   "id": "fe9e36a5-8e94-4356-80fe-ae3ad5c415a6",
   "metadata": {},
   "outputs": [
    {
     "data": {
      "text/plain": [
       "'!\"#$%&\\'()*+,-./:;<=>?@[\\\\]^_`{|}~'"
      ]
     },
     "execution_count": 8,
     "metadata": {},
     "output_type": "execute_result"
    }
   ],
   "source": [
    "string.punctuation"
   ]
  },
  {
   "cell_type": "code",
   "execution_count": 9,
   "id": "2dc16a85-2699-4238-8d4c-836f01c26cba",
   "metadata": {},
   "outputs": [],
   "source": [
    "exclude=string.punctuation"
   ]
  },
  {
   "cell_type": "code",
   "execution_count": 10,
   "id": "1306ae01-6fbc-49f8-8473-3b4a5ae94b42",
   "metadata": {},
   "outputs": [],
   "source": [
    "def remove_punctuation(text):\n",
    "    return text.translate(str.maketrans('','',exclude))"
   ]
  },
  {
   "cell_type": "code",
   "execution_count": 11,
   "id": "7d3c4ea7-96ff-484b-9920-60295587b18b",
   "metadata": {},
   "outputs": [
    {
     "data": {
      "text/plain": [
       "'Im allowed to write 1000 words about this film but one word could suffice bizarre Hubby and I didnt laugh so much as gawk at this truly dreadful movie We kept looking at each other with our best What the expressions There is no way to adequately describe this movie Killer tomatoes were funny but this is just sick What kind of mind produces images like these and then puts them on film for others to see What kind of mind includes innocent children in this weird weird movie and then packages it as if it is appropriate for children Parents whatever you do if your child still believes in Santa dont let himher see this movie Preteens can watch it  probably with What the expressions on their faces If you decide to inflict this movie on others you might want to spike their eggnogbr br Quite possibly the worst film ever made'"
      ]
     },
     "execution_count": 11,
     "metadata": {},
     "output_type": "execute_result"
    }
   ],
   "source": [
    "remove_punctuation(imbd['review'][22560])"
   ]
  },
  {
   "cell_type": "markdown",
   "id": "171f682f-f5ab-4186-bd76-27879a75576b",
   "metadata": {},
   "source": [
    "#### Spelling Correction:"
   ]
  },
  {
   "cell_type": "code",
   "execution_count": 12,
   "id": "8a46b07c-5795-435e-9279-23ad9dfaeaf3",
   "metadata": {},
   "outputs": [],
   "source": [
    "#%pip install textblob\n",
    "from textblob import TextBlob"
   ]
  },
  {
   "cell_type": "code",
   "execution_count": 13,
   "id": "71b89960-dad1-4e75-b63b-b1d0e0da0249",
   "metadata": {},
   "outputs": [],
   "source": [
    "incorrect_sentence='Caue the same word to be treated difrently (e.g., \"helo\" vs. \"hello!\"), which can conuse the moedl.'"
   ]
  },
  {
   "cell_type": "code",
   "execution_count": 14,
   "id": "a3eed9f2-3ede-4382-a9fb-0d3ffac25094",
   "metadata": {},
   "outputs": [
    {
     "data": {
      "text/plain": [
       "'Are the same word to be treated directly (e.g., \"held\" vs. \"hello!\"), which can confuse the model.'"
      ]
     },
     "execution_count": 14,
     "metadata": {},
     "output_type": "execute_result"
    }
   ],
   "source": [
    "text=TextBlob(incorrect_sentence)\n",
    "text.correct().string"
   ]
  },
  {
   "cell_type": "markdown",
   "id": "69e9c143-5500-4a3c-957f-99fb83a218ac",
   "metadata": {},
   "source": [
    "**Important Points:**\n",
    "1) Converting all text to lowercase ensures uniformity. This prevents the model from treating words like \"Apple\" and \"apple\" as different tokens, which could reduce accuracy and increase vocabulary size unnecessarily.\n",
    "2) Punctuation marks like !, ?, and . can:\n",
    "   - Inflate the vocabulary, making the model unnecessarily large and noisy.\n",
    "   - Cause the same word to be treated differently (e.g., \"hello\" vs. \"hello!\"), which can confuse the model.\n",
    "3) As the size of our dataset increases, the likelihood of encountering spelling errors grows rapidly—often exponentially. To handle this, we use spell-checking libraries (e.g., TextBlob, SymSpell, or Hunspell).\n",
    "However, these tools are not always accurate, especially in informal text (like tweets or chats), domain-specific language, or names. They might:\n",
    "   - Miss errors.\n",
    "   - Incorrectly \"fix\" valid but uncommon words.\n",
    "   - Introduce noise by changing context-sensitive words."
   ]
  },
  {
   "cell_type": "markdown",
   "id": "0c8abee6-6d35-4567-b242-6a1cd3800c92",
   "metadata": {},
   "source": [
    "#### Convert the slang words:"
   ]
  },
  {
   "cell_type": "code",
   "execution_count": 15,
   "id": "15890d90-bb87-4b72-9cee-407e52d286f3",
   "metadata": {},
   "outputs": [],
   "source": [
    "abbreviations = {\n",
    "    \"A3\": \"Anytime, Anywhere, Anyplace\",\n",
    "    \"ADIH\": \"Another Day In Hell\",\n",
    "    \"AFK\": \"Away From Keyboard\",\n",
    "    \"AFAIK\": \"As Far As I Know\",\n",
    "    \"ASAP\": \"As Soon As Possible\",\n",
    "    \"ASL\": \"Age, Sex, Location\",\n",
    "    \"ATK\": \"At The Keyboard\",\n",
    "    \"ATM\": \"At The Moment\",\n",
    "    \"BAE\": \"Before Anyone Else\",\n",
    "    \"BAK\": \"Back At Keyboard\",\n",
    "    \"BBL\": \"Be Back Later\",\n",
    "    \"BBS\": \"Be Back Soon\",\n",
    "    \"BFN\": \"Bye For Now\",\n",
    "    \"B4N\": \"Bye For Now\",\n",
    "    \"BRB\": \"Be Right Back\",\n",
    "    \"BRUH\": \"Bro\",\n",
    "    \"BRT\": \"Be Right There\",\n",
    "    \"BSAAW\": \"Big Smile And A Wink\",\n",
    "    \"BTW\": \"By The Way\",\n",
    "    \"BWL\": \"Bursting With Laughter\",\n",
    "    \"CSL\": \"Can’t Stop Laughing\",\n",
    "    \"CU\": \"See You\",\n",
    "    \"CUL8R\": \"See You Later\",\n",
    "    \"CYA\": \"See You\",\n",
    "    \"DM\": \"Direct Message\",\n",
    "    \"FAQ\": \"Frequently Asked Questions\",\n",
    "    \"FC\": \"Fingers Crossed\",\n",
    "    \"FIMH\": \"Forever In My Heart\",\n",
    "    \"FOMO\": \"Fear Of Missing Out\",\n",
    "    \"FR\": \"For Real\",\n",
    "    \"FWIW\": \"For What It's Worth\",\n",
    "    \"FYP\": \"For You Page\",\n",
    "    \"FYI\": \"For Your Information\",\n",
    "    \"G9\": \"Genius\",\n",
    "    \"GAL\": \"Get A Life\",\n",
    "    \"GG\": \"Good Game\",\n",
    "    \"GMTA\": \"Great Minds Think Alike\",\n",
    "    \"GN\": \"Good Night\",\n",
    "    \"GOAT\": \"Greatest Of All Time\",\n",
    "    \"GR8\": \"Great!\",\n",
    "    \"HBD\": \"Happy Birthday\",\n",
    "    \"IC\": \"I See\",\n",
    "    \"ICQ\": \"I Seek You\",\n",
    "    \"IDC\": \"I Don’t Care\",\n",
    "    \"IDK\": \"I Don't Know\",\n",
    "    \"IFYP\": \"I Feel Your Pain\",\n",
    "    \"ILU\": \"I Love You\",\n",
    "    \"ILY\": \"I Love You\",\n",
    "    \"IMHO\": \"In My Honest/Humble Opinion\",\n",
    "    \"IMU\": \"I Miss You\",\n",
    "    \"IMO\": \"In My Opinion\",\n",
    "    \"IOW\": \"In Other Words\",\n",
    "    \"IRL\": \"In Real Life\",\n",
    "    \"IYKYK\": \"If You Know, You Know\",\n",
    "    \"JK\": \"Just Kidding\",\n",
    "    \"KISS\": \"Keep It Simple, Stupid\",\n",
    "    \"L\": \"Loss\",\n",
    "    \"L8R\": \"Later\",\n",
    "    \"LDR\": \"Long Distance Relationship\",\n",
    "    \"LMK\": \"Let Me Know\",\n",
    "    \"LMAO\": \"Laughing My A** Off\",\n",
    "    \"LOL\": \"Laughing Out Loud\",\n",
    "    \"LTNS\": \"Long Time No See\",\n",
    "    \"M8\": \"Mate\",\n",
    "    \"MFW\": \"My Face When\",\n",
    "    \"MID\": \"Mediocre\",\n",
    "    \"MRW\": \"My Reaction When\",\n",
    "    \"MTE\": \"My Thoughts Exactly\",\n",
    "    \"NVM\": \"Never Mind\",\n",
    "    \"NRN\": \"No Reply Necessary\",\n",
    "    \"NPC\": \"Non-Player Character\",\n",
    "    \"OIC\": \"Oh I See\",\n",
    "    \"OP\": \"Overpowered\",\n",
    "    \"PITA\": \"Pain In The A**\",\n",
    "    \"POV\": \"Point Of View\",\n",
    "    \"PRT\": \"Party\",\n",
    "    \"PRW\": \"Parents Are Watching\",\n",
    "    \"ROFL\": \"Rolling On The Floor Laughing\",\n",
    "    \"ROFLOL\": \"Rolling On The Floor Laughing Out Loud\",\n",
    "    \"ROTFLMAO\": \"Rolling On The Floor Laughing My A** Off\",\n",
    "    \"RN\": \"Right Now\",\n",
    "    \"SK8\": \"Skate\",\n",
    "    \"STATS\": \"Your Sex And Age\",\n",
    "    \"SUS\": \"Suspicious\",\n",
    "    \"TBH\": \"To Be Honest\",\n",
    "    \"TFW\": \"That Feeling When\",\n",
    "    \"THX\": \"Thank You\",\n",
    "    \"TIME\": \"Tears In My Eyes\",\n",
    "    \"TLDR\": \"Too Long, Didn’t Read\",\n",
    "    \"TNTL\": \"Trying Not To Laugh\",\n",
    "    \"TTFN\": \"Ta-Ta For Now!\",\n",
    "    \"TTYL\": \"Talk To You Later\",\n",
    "    \"U\": \"You\",\n",
    "    \"U2\": \"You Too\",\n",
    "    \"U4E\": \"Yours For Ever\",\n",
    "    \"W\": \"Win\",\n",
    "    \"W8\": \"Wait...\",\n",
    "    \"WB\": \"Welcome Back\",\n",
    "    \"WTF\": \"What The F**k\",\n",
    "    \"WTG\": \"Way To Go!\",\n",
    "    \"WUF\": \"Where Are You From?\",\n",
    "    \"WYD\": \"What You Doing?\",\n",
    "    \"WYWH\": \"Wish You Were Here\",\n",
    "    \"ZZZ\": \"Sleeping, Bored, Tired\"\n",
    "}"
   ]
  },
  {
   "cell_type": "code",
   "execution_count": 16,
   "id": "b162428e-99ec-405b-a7eb-e2bdeba0d53e",
   "metadata": {},
   "outputs": [],
   "source": [
    "test_string1=\"He is the GOAT\"\n",
    "test_string2=\"TBH my POV is different\"\n",
    "test_string3=\"tbh he is the goat\""
   ]
  },
  {
   "cell_type": "code",
   "execution_count": 17,
   "id": "dfd25995-e73b-4ab4-9aa0-553ce9aec8cd",
   "metadata": {},
   "outputs": [],
   "source": [
    "def slang_converter(text):\n",
    "    new_list=[]\n",
    "    for word in text.split():\n",
    "        if word.upper() in abbreviations:\n",
    "            new_list.append(abbreviations[word.upper()])\n",
    "        else:\n",
    "            new_list.append(word)\n",
    "    return ' '.join(new_list)"
   ]
  },
  {
   "cell_type": "code",
   "execution_count": 18,
   "id": "6ad2a849-8130-4e36-b106-a519e3955e88",
   "metadata": {},
   "outputs": [
    {
     "data": {
      "text/plain": [
       "'He is the Greatest Of All Time'"
      ]
     },
     "execution_count": 18,
     "metadata": {},
     "output_type": "execute_result"
    }
   ],
   "source": [
    "slang_converter(test_string1)"
   ]
  },
  {
   "cell_type": "code",
   "execution_count": 19,
   "id": "0339bff0-68a5-4b41-92fa-5cb562ce3e3e",
   "metadata": {},
   "outputs": [
    {
     "data": {
      "text/plain": [
       "'To Be Honest my Point Of View is different'"
      ]
     },
     "execution_count": 19,
     "metadata": {},
     "output_type": "execute_result"
    }
   ],
   "source": [
    "slang_converter(test_string2)"
   ]
  },
  {
   "cell_type": "code",
   "execution_count": 20,
   "id": "97cbbc82-8f30-453c-9b3a-3c75281f7567",
   "metadata": {},
   "outputs": [
    {
     "data": {
      "text/plain": [
       "'To Be Honest he is the Greatest Of All Time'"
      ]
     },
     "execution_count": 20,
     "metadata": {},
     "output_type": "execute_result"
    }
   ],
   "source": [
    "slang_converter(test_string3)"
   ]
  },
  {
   "cell_type": "markdown",
   "id": "2be053cf-a3de-4fc8-be6b-bbf9979d785d",
   "metadata": {},
   "source": [
    "#### Spelling Correction:"
   ]
  },
  {
   "cell_type": "code",
   "execution_count": 21,
   "id": "e05f1437-f6c9-4c7d-8074-135b4ed4053d",
   "metadata": {},
   "outputs": [],
   "source": [
    "from textblob import TextBlob"
   ]
  },
  {
   "cell_type": "code",
   "execution_count": 22,
   "id": "952dd408-292c-4574-a0b5-ce56712a8361",
   "metadata": {},
   "outputs": [],
   "source": [
    "incorrect_string1=\"Wht is the problme with you. Jsut shut pu\"\n",
    "incorrect_string2=\"Heree, he gose again\"\n",
    "incorrect_string3=\"what mistaek did you coimmt?\""
   ]
  },
  {
   "cell_type": "code",
   "execution_count": 23,
   "id": "c7c0d33e-2a92-4ff9-9eec-f4626b1b19d8",
   "metadata": {},
   "outputs": [
    {
     "data": {
      "text/plain": [
       "'The is the problem with you. But shut up'"
      ]
     },
     "execution_count": 23,
     "metadata": {},
     "output_type": "execute_result"
    }
   ],
   "source": [
    "blob=TextBlob(incorrect_string1)\n",
    "blob.correct().string"
   ]
  },
  {
   "cell_type": "code",
   "execution_count": 24,
   "id": "69d4852f-988b-4a87-8716-3c211df006ab",
   "metadata": {},
   "outputs": [
    {
     "data": {
      "text/plain": [
       "'Were, he rose again'"
      ]
     },
     "execution_count": 24,
     "metadata": {},
     "output_type": "execute_result"
    }
   ],
   "source": [
    "blob=TextBlob(incorrect_string2)\n",
    "blob.correct().string"
   ]
  },
  {
   "cell_type": "code",
   "execution_count": 25,
   "id": "cf11939f-2be5-4f57-8a23-1afa68f787ac",
   "metadata": {},
   "outputs": [
    {
     "data": {
      "text/plain": [
       "'what mistake did you commit?'"
      ]
     },
     "execution_count": 25,
     "metadata": {},
     "output_type": "execute_result"
    }
   ],
   "source": [
    "blob=TextBlob(incorrect_string3)\n",
    "blob.correct().string"
   ]
  },
  {
   "cell_type": "markdown",
   "id": "43593615-0959-4527-aef7-b7c7672a68ec",
   "metadata": {},
   "source": [
    "#### Remove Stopwords:"
   ]
  },
  {
   "cell_type": "code",
   "execution_count": 26,
   "id": "a08b8f50-104c-456e-a379-bbcd51871ba9",
   "metadata": {},
   "outputs": [],
   "source": [
    "from nltk.corpus import stopwords"
   ]
  },
  {
   "cell_type": "code",
   "execution_count": 27,
   "id": "c7017742-e57d-42b4-9097-440216194d0e",
   "metadata": {},
   "outputs": [],
   "source": [
    "test_string1=\"The major issue is that he has a big anger issue.\"\n",
    "test_string2=\"He is a big matchwinner\"\n",
    "test_string3=\"He is going to score the highest runs.\""
   ]
  },
  {
   "cell_type": "code",
   "execution_count": 28,
   "id": "ced7b9f8-e3b9-4f31-a63e-dcde6d80c4fd",
   "metadata": {},
   "outputs": [],
   "source": [
    "def remove_stopwords(text):\n",
    "    new_list=[word for word in text.split() if word.lower() not in stopwords.words('english')]\n",
    "    return ' '.join(new_list)"
   ]
  },
  {
   "cell_type": "code",
   "execution_count": 29,
   "id": "130d7cc8-b157-491d-87df-171cec5a5327",
   "metadata": {},
   "outputs": [
    {
     "data": {
      "text/plain": [
       "'major issue big anger issue.'"
      ]
     },
     "execution_count": 29,
     "metadata": {},
     "output_type": "execute_result"
    }
   ],
   "source": [
    "remove_stopwords(test_string1)"
   ]
  },
  {
   "cell_type": "code",
   "execution_count": 31,
   "id": "243a32f9-d585-44b5-b961-b77ff54f1742",
   "metadata": {},
   "outputs": [
    {
     "data": {
      "text/plain": [
       "'He big matchwinner'"
      ]
     },
     "execution_count": 31,
     "metadata": {},
     "output_type": "execute_result"
    }
   ],
   "source": [
    "remove_stopwords(test_string2)"
   ]
  },
  {
   "cell_type": "code",
   "execution_count": 32,
   "id": "2b6dca15-ceb7-4d18-9e91-009964424691",
   "metadata": {},
   "outputs": [
    {
     "data": {
      "text/plain": [
       "'He going score highest runs.'"
      ]
     },
     "execution_count": 32,
     "metadata": {},
     "output_type": "execute_result"
    }
   ],
   "source": [
    "remove_stopwords(test_string3)"
   ]
  }
 ],
 "metadata": {
  "kernelspec": {
   "display_name": "Python 3 (ipykernel)",
   "language": "python",
   "name": "python3"
  },
  "language_info": {
   "codemirror_mode": {
    "name": "ipython",
    "version": 3
   },
   "file_extension": ".py",
   "mimetype": "text/x-python",
   "name": "python",
   "nbconvert_exporter": "python",
   "pygments_lexer": "ipython3",
   "version": "3.13.0"
  }
 },
 "nbformat": 4,
 "nbformat_minor": 5
}
