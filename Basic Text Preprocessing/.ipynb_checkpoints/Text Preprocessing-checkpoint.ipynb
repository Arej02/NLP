{
 "cells": [
  {
   "cell_type": "code",
   "execution_count": 10,
   "id": "7f6cb616-dc15-4f81-b688-f0028fbdddcd",
   "metadata": {},
   "outputs": [],
   "source": [
    "import pandas as pd\n",
    "import numpy as np\n",
    "import string"
   ]
  },
  {
   "cell_type": "code",
   "execution_count": 2,
   "id": "af6f11ad-7e65-49e6-9dce-f08847092d0e",
   "metadata": {},
   "outputs": [
    {
     "data": {
      "text/html": [
       "<div>\n",
       "<style scoped>\n",
       "    .dataframe tbody tr th:only-of-type {\n",
       "        vertical-align: middle;\n",
       "    }\n",
       "\n",
       "    .dataframe tbody tr th {\n",
       "        vertical-align: top;\n",
       "    }\n",
       "\n",
       "    .dataframe thead th {\n",
       "        text-align: right;\n",
       "    }\n",
       "</style>\n",
       "<table border=\"1\" class=\"dataframe\">\n",
       "  <thead>\n",
       "    <tr style=\"text-align: right;\">\n",
       "      <th></th>\n",
       "      <th>review</th>\n",
       "      <th>sentiment</th>\n",
       "    </tr>\n",
       "  </thead>\n",
       "  <tbody>\n",
       "    <tr>\n",
       "      <th>9612</th>\n",
       "      <td>Oh my god, WHY, did I waste my precious time o...</td>\n",
       "      <td>negative</td>\n",
       "    </tr>\n",
       "    <tr>\n",
       "      <th>21624</th>\n",
       "      <td>A film that can make you shed tears of sadness...</td>\n",
       "      <td>positive</td>\n",
       "    </tr>\n",
       "    <tr>\n",
       "      <th>6463</th>\n",
       "      <td>Although DiG! was being hailed as being closes...</td>\n",
       "      <td>positive</td>\n",
       "    </tr>\n",
       "    <tr>\n",
       "      <th>20506</th>\n",
       "      <td>Starts really well, nice intro and build up fo...</td>\n",
       "      <td>negative</td>\n",
       "    </tr>\n",
       "  </tbody>\n",
       "</table>\n",
       "</div>"
      ],
      "text/plain": [
       "                                                  review sentiment\n",
       "9612   Oh my god, WHY, did I waste my precious time o...  negative\n",
       "21624  A film that can make you shed tears of sadness...  positive\n",
       "6463   Although DiG! was being hailed as being closes...  positive\n",
       "20506  Starts really well, nice intro and build up fo...  negative"
      ]
     },
     "execution_count": 2,
     "metadata": {},
     "output_type": "execute_result"
    }
   ],
   "source": [
    "imbd=pd.read_csv(\"IMDB Dataset.csv\")\n",
    "imbd.sample(4)"
   ]
  },
  {
   "cell_type": "code",
   "execution_count": null,
   "id": "4d940f15-92f2-48e0-ba22-682e4a2c2dc9",
   "metadata": {},
   "outputs": [],
   "source": [
    "imbd['review'][22560]"
   ]
  },
  {
   "cell_type": "markdown",
   "id": "6428d328-4b00-41f4-a46d-afc9585db352",
   "metadata": {},
   "source": [
    "#### Lowercasing:"
   ]
  },
  {
   "cell_type": "code",
   "execution_count": 3,
   "id": "c328ed8f-4b71-4ee7-96df-6a3de1efd4a5",
   "metadata": {},
   "outputs": [
    {
     "data": {
      "text/plain": [
       "'i\\'m allowed to write 1000 words about this film, but one word could suffice: bizarre. hubby and i didn\\'t laugh so much as gawk at this truly dreadful movie. we kept looking at each other with our best \"what the...?\" expressions. there is no way to adequately describe this movie. killer tomatoes were funny, but this is just sick. what kind of mind produces images like these and then puts them on film for others to see? what kind of mind includes innocent children in this weird, weird movie and then packages it as if it is appropriate for children? parents, whatever you do, if your child still believes in santa, don\\'t let him/her see this movie. preteens can watch it -- probably with \"what the...?\" expressions on their faces. if you decide to inflict this movie on others, you might want to spike their eggnog.<br /><br />quite possibly the worst film ever made.'"
      ]
     },
     "execution_count": 3,
     "metadata": {},
     "output_type": "execute_result"
    }
   ],
   "source": [
    "imbd['review'][22560].lower()"
   ]
  },
  {
   "cell_type": "code",
   "execution_count": 4,
   "id": "ff85a0b2-ac7a-443a-94a5-3aa0a80659cf",
   "metadata": {},
   "outputs": [
    {
     "data": {
      "text/plain": [
       "'I\\'M Allowed To Write 1000 Words About This Film, But One Word Could Suffice: Bizarre. Hubby And I Didn\\'T Laugh So Much As Gawk At This Truly Dreadful Movie. We Kept Looking At Each Other With Our Best \"What The...?\" Expressions. There Is No Way To Adequately Describe This Movie. Killer Tomatoes Were Funny, But This Is Just Sick. What Kind Of Mind Produces Images Like These And Then Puts Them On Film For Others To See? What Kind Of Mind Includes Innocent Children In This Weird, Weird Movie And Then Packages It As If It Is Appropriate For Children? Parents, Whatever You Do, If Your Child Still Believes In Santa, Don\\'T Let Him/Her See This Movie. Preteens Can Watch It -- Probably With \"What The...?\" Expressions On Their Faces. If You Decide To Inflict This Movie On Others, You Might Want To Spike Their Eggnog.<Br /><Br />Quite Possibly The Worst Film Ever Made.'"
      ]
     },
     "execution_count": 4,
     "metadata": {},
     "output_type": "execute_result"
    }
   ],
   "source": [
    "imbd['review'][22560].title()"
   ]
  },
  {
   "cell_type": "code",
   "execution_count": 5,
   "id": "bedd486c-a8cf-4cde-ad27-0d175c95b5d4",
   "metadata": {},
   "outputs": [
    {
     "data": {
      "text/plain": [
       "'I\\'M ALLOWED TO WRITE 1000 WORDS ABOUT THIS FILM, BUT ONE WORD COULD SUFFICE: BIZARRE. HUBBY AND I DIDN\\'T LAUGH SO MUCH AS GAWK AT THIS TRULY DREADFUL MOVIE. WE KEPT LOOKING AT EACH OTHER WITH OUR BEST \"WHAT THE...?\" EXPRESSIONS. THERE IS NO WAY TO ADEQUATELY DESCRIBE THIS MOVIE. KILLER TOMATOES WERE FUNNY, BUT THIS IS JUST SICK. WHAT KIND OF MIND PRODUCES IMAGES LIKE THESE AND THEN PUTS THEM ON FILM FOR OTHERS TO SEE? WHAT KIND OF MIND INCLUDES INNOCENT CHILDREN IN THIS WEIRD, WEIRD MOVIE AND THEN PACKAGES IT AS IF IT IS APPROPRIATE FOR CHILDREN? PARENTS, WHATEVER YOU DO, IF YOUR CHILD STILL BELIEVES IN SANTA, DON\\'T LET HIM/HER SEE THIS MOVIE. PRETEENS CAN WATCH IT -- PROBABLY WITH \"WHAT THE...?\" EXPRESSIONS ON THEIR FACES. IF YOU DECIDE TO INFLICT THIS MOVIE ON OTHERS, YOU MIGHT WANT TO SPIKE THEIR EGGNOG.<BR /><BR />QUITE POSSIBLY THE WORST FILM EVER MADE.'"
      ]
     },
     "execution_count": 5,
     "metadata": {},
     "output_type": "execute_result"
    }
   ],
   "source": [
    "imbd['review'][22560].upper()"
   ]
  },
  {
   "cell_type": "code",
   "execution_count": 6,
   "id": "2e4aa084-9d08-4553-977d-b57fb874012a",
   "metadata": {},
   "outputs": [
    {
     "data": {
      "text/plain": [
       "0        one of the other reviewers has mentioned that ...\n",
       "1        a wonderful little production. <br /><br />the...\n",
       "2        i thought this was a wonderful way to spend ti...\n",
       "3        basically there's a family where a little boy ...\n",
       "4        petter mattei's \"love in the time of money\" is...\n",
       "                               ...                        \n",
       "49995    i thought this movie did a down right good job...\n",
       "49996    bad plot, bad dialogue, bad acting, idiotic di...\n",
       "49997    i am a catholic taught in parochial elementary...\n",
       "49998    i'm going to have to disagree with the previou...\n",
       "49999    no one expects the star trek movies to be high...\n",
       "Name: review, Length: 50000, dtype: object"
      ]
     },
     "execution_count": 6,
     "metadata": {},
     "output_type": "execute_result"
    }
   ],
   "source": [
    "#To lower the entire corpus you have to use str.lower()\n",
    "imbd['review'].str.lower()"
   ]
  },
  {
   "cell_type": "markdown",
   "id": "fc20c695-7f33-4008-adce-7d3e987fd299",
   "metadata": {},
   "source": [
    "#### Remove Punctuation:"
   ]
  },
  {
   "cell_type": "code",
   "execution_count": 11,
   "id": "fe9e36a5-8e94-4356-80fe-ae3ad5c415a6",
   "metadata": {},
   "outputs": [
    {
     "data": {
      "text/plain": [
       "'!\"#$%&\\'()*+,-./:;<=>?@[\\\\]^_`{|}~'"
      ]
     },
     "execution_count": 11,
     "metadata": {},
     "output_type": "execute_result"
    }
   ],
   "source": [
    "string.punctuation"
   ]
  },
  {
   "cell_type": "code",
   "execution_count": 12,
   "id": "2dc16a85-2699-4238-8d4c-836f01c26cba",
   "metadata": {},
   "outputs": [],
   "source": [
    "exclude=string.punctuation"
   ]
  },
  {
   "cell_type": "code",
   "execution_count": 13,
   "id": "1306ae01-6fbc-49f8-8473-3b4a5ae94b42",
   "metadata": {},
   "outputs": [],
   "source": [
    "def remove_punctuation(text):\n",
    "    return text.translate(str.maketrans('','',exclude))"
   ]
  },
  {
   "cell_type": "code",
   "execution_count": 14,
   "id": "7d3c4ea7-96ff-484b-9920-60295587b18b",
   "metadata": {},
   "outputs": [
    {
     "data": {
      "text/plain": [
       "'Im allowed to write 1000 words about this film but one word could suffice bizarre Hubby and I didnt laugh so much as gawk at this truly dreadful movie We kept looking at each other with our best What the expressions There is no way to adequately describe this movie Killer tomatoes were funny but this is just sick What kind of mind produces images like these and then puts them on film for others to see What kind of mind includes innocent children in this weird weird movie and then packages it as if it is appropriate for children Parents whatever you do if your child still believes in Santa dont let himher see this movie Preteens can watch it  probably with What the expressions on their faces If you decide to inflict this movie on others you might want to spike their eggnogbr br Quite possibly the worst film ever made'"
      ]
     },
     "execution_count": 14,
     "metadata": {},
     "output_type": "execute_result"
    }
   ],
   "source": [
    "remove_punctuation(imbd['review'][22560])"
   ]
  },
  {
   "cell_type": "markdown",
   "id": "69e9c143-5500-4a3c-957f-99fb83a218ac",
   "metadata": {},
   "source": [
    "**Important Points:**\n",
    "1) Converting all text to lowercase ensures uniformity. This prevents the model from treating words like \"Apple\" and \"apple\" as different tokens, which could reduce accuracy and increase vocabulary size unnecessarily.\n",
    "2) Punctuation marks like !, ?, and . can:\n",
    "   - Inflate the vocabulary, making the model unnecessarily large and noisy.\n",
    "   - Cause the same word to be treated differently (e.g., \"hello\" vs. \"hello!\"), which can confuse the model."
   ]
  },
  {
   "cell_type": "code",
   "execution_count": null,
   "id": "635f0920-3ab9-407d-811f-656c71f8bfbe",
   "metadata": {},
   "outputs": [],
   "source": []
  }
 ],
 "metadata": {
  "kernelspec": {
   "display_name": "Python 3 (ipykernel)",
   "language": "python",
   "name": "python3"
  },
  "language_info": {
   "codemirror_mode": {
    "name": "ipython",
    "version": 3
   },
   "file_extension": ".py",
   "mimetype": "text/x-python",
   "name": "python",
   "nbconvert_exporter": "python",
   "pygments_lexer": "ipython3",
   "version": "3.13.0"
  }
 },
 "nbformat": 4,
 "nbformat_minor": 5
}
