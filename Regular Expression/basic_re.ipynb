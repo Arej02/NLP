{
 "cells": [
  {
   "cell_type": "code",
   "execution_count": 1,
   "id": "ab83e254",
   "metadata": {},
   "outputs": [],
   "source": [
    "import re"
   ]
  },
  {
   "cell_type": "code",
   "execution_count": 2,
   "id": "4a50c05e",
   "metadata": {},
   "outputs": [],
   "source": [
    "test_string=\"Hello, how are you doing! I hope you are fine? Hello again\"\n",
    "test_string2=\"Hello, how are you doing! \\n I hope you are fine? \\n. I am 22 years old\""
   ]
  },
  {
   "cell_type": "code",
   "execution_count": 3,
   "id": "222dc0e5",
   "metadata": {},
   "outputs": [
    {
     "name": "stdout",
     "output_type": "stream",
     "text": [
      "<re.Match object; span=(0, 1), match='H'>\n",
      "<re.Match object; span=(1, 2), match='e'>\n",
      "<re.Match object; span=(2, 3), match='l'>\n",
      "<re.Match object; span=(3, 4), match='l'>\n",
      "<re.Match object; span=(4, 5), match='o'>\n",
      "<re.Match object; span=(5, 6), match=','>\n",
      "<re.Match object; span=(6, 7), match=' '>\n",
      "<re.Match object; span=(7, 8), match='h'>\n",
      "<re.Match object; span=(8, 9), match='o'>\n",
      "<re.Match object; span=(9, 10), match='w'>\n",
      "<re.Match object; span=(10, 11), match=' '>\n",
      "<re.Match object; span=(11, 12), match='a'>\n",
      "<re.Match object; span=(12, 13), match='r'>\n",
      "<re.Match object; span=(13, 14), match='e'>\n",
      "<re.Match object; span=(14, 15), match=' '>\n",
      "<re.Match object; span=(15, 16), match='y'>\n",
      "<re.Match object; span=(16, 17), match='o'>\n",
      "<re.Match object; span=(17, 18), match='u'>\n",
      "<re.Match object; span=(18, 19), match=' '>\n",
      "<re.Match object; span=(19, 20), match='d'>\n",
      "<re.Match object; span=(20, 21), match='o'>\n",
      "<re.Match object; span=(21, 22), match='i'>\n",
      "<re.Match object; span=(22, 23), match='n'>\n",
      "<re.Match object; span=(23, 24), match='g'>\n",
      "<re.Match object; span=(24, 25), match='!'>\n",
      "<re.Match object; span=(25, 26), match=' '>\n",
      "<re.Match object; span=(27, 28), match=' '>\n",
      "<re.Match object; span=(28, 29), match='I'>\n",
      "<re.Match object; span=(29, 30), match=' '>\n",
      "<re.Match object; span=(30, 31), match='h'>\n",
      "<re.Match object; span=(31, 32), match='o'>\n",
      "<re.Match object; span=(32, 33), match='p'>\n",
      "<re.Match object; span=(33, 34), match='e'>\n",
      "<re.Match object; span=(34, 35), match=' '>\n",
      "<re.Match object; span=(35, 36), match='y'>\n",
      "<re.Match object; span=(36, 37), match='o'>\n",
      "<re.Match object; span=(37, 38), match='u'>\n",
      "<re.Match object; span=(38, 39), match=' '>\n",
      "<re.Match object; span=(39, 40), match='a'>\n",
      "<re.Match object; span=(40, 41), match='r'>\n",
      "<re.Match object; span=(41, 42), match='e'>\n",
      "<re.Match object; span=(42, 43), match=' '>\n",
      "<re.Match object; span=(43, 44), match='f'>\n",
      "<re.Match object; span=(44, 45), match='i'>\n",
      "<re.Match object; span=(45, 46), match='n'>\n",
      "<re.Match object; span=(46, 47), match='e'>\n",
      "<re.Match object; span=(47, 48), match='?'>\n",
      "<re.Match object; span=(48, 49), match=' '>\n",
      "<re.Match object; span=(50, 51), match='.'>\n",
      "<re.Match object; span=(51, 52), match=' '>\n",
      "<re.Match object; span=(52, 53), match='I'>\n",
      "<re.Match object; span=(53, 54), match=' '>\n",
      "<re.Match object; span=(54, 55), match='a'>\n",
      "<re.Match object; span=(55, 56), match='m'>\n",
      "<re.Match object; span=(56, 57), match=' '>\n",
      "<re.Match object; span=(57, 58), match='2'>\n",
      "<re.Match object; span=(58, 59), match='2'>\n",
      "<re.Match object; span=(59, 60), match=' '>\n",
      "<re.Match object; span=(60, 61), match='y'>\n",
      "<re.Match object; span=(61, 62), match='e'>\n",
      "<re.Match object; span=(62, 63), match='a'>\n",
      "<re.Match object; span=(63, 64), match='r'>\n",
      "<re.Match object; span=(64, 65), match='s'>\n",
      "<re.Match object; span=(65, 66), match=' '>\n",
      "<re.Match object; span=(66, 67), match='o'>\n",
      "<re.Match object; span=(67, 68), match='l'>\n",
      "<re.Match object; span=(68, 69), match='d'>\n"
     ]
    }
   ],
   "source": [
    "# Any pattern except newline:\n",
    "\n",
    "pattern=re.compile(r'.') # . gives you any line except /n and r makes it a raw string\n",
    "match=re.finditer(pattern,test_string2)\n",
    "\n",
    "for i in match:\n",
    "    print(i)"
   ]
  },
  {
   "cell_type": "code",
   "execution_count": 4,
   "id": "a36dae39",
   "metadata": {},
   "outputs": [
    {
     "name": "stdout",
     "output_type": "stream",
     "text": [
      "<re.Match object; span=(0, 5), match='Hello'>\n"
     ]
    }
   ],
   "source": [
    "# Print the beginning of the string:\n",
    "pattern=re.compile(r'^Hello') # Use ^ in the beginning \n",
    "\n",
    "match=re.finditer(pattern,test_string)\n",
    "\n",
    "for i in match:\n",
    "    print(i)"
   ]
  },
  {
   "cell_type": "code",
   "execution_count": 5,
   "id": "5587a028",
   "metadata": {},
   "outputs": [
    {
     "name": "stdout",
     "output_type": "stream",
     "text": [
      "<re.Match object; span=(53, 58), match='again'>\n"
     ]
    }
   ],
   "source": [
    "# Print the end of the string: \n",
    "\n",
    "pattern=re.compile(r'again$') # Use $ in the end\n",
    "\n",
    "match=re.finditer(pattern,test_string)\n",
    "\n",
    "for i in match:\n",
    "    print(i)"
   ]
  },
  {
   "cell_type": "code",
   "execution_count": 6,
   "id": "6b8655ee",
   "metadata": {},
   "outputs": [
    {
     "name": "stdout",
     "output_type": "stream",
     "text": [
      "<re.Match object; span=(1, 2), match='e'>\n",
      "<re.Match object; span=(4, 5), match='o'>\n",
      "<re.Match object; span=(8, 9), match='o'>\n",
      "<re.Match object; span=(11, 12), match='a'>\n",
      "<re.Match object; span=(13, 14), match='e'>\n",
      "<re.Match object; span=(16, 17), match='o'>\n",
      "<re.Match object; span=(17, 18), match='u'>\n",
      "<re.Match object; span=(20, 21), match='o'>\n",
      "<re.Match object; span=(21, 22), match='i'>\n",
      "<re.Match object; span=(29, 30), match='o'>\n",
      "<re.Match object; span=(31, 32), match='e'>\n",
      "<re.Match object; span=(34, 35), match='o'>\n",
      "<re.Match object; span=(35, 36), match='u'>\n",
      "<re.Match object; span=(37, 38), match='a'>\n",
      "<re.Match object; span=(39, 40), match='e'>\n",
      "<re.Match object; span=(42, 43), match='i'>\n",
      "<re.Match object; span=(44, 45), match='e'>\n",
      "<re.Match object; span=(48, 49), match='e'>\n",
      "<re.Match object; span=(51, 52), match='o'>\n",
      "<re.Match object; span=(53, 54), match='a'>\n",
      "<re.Match object; span=(55, 56), match='a'>\n",
      "<re.Match object; span=(56, 57), match='i'>\n"
     ]
    }
   ],
   "source": [
    "# Searching for characters:\n",
    "\n",
    "pattern=re.compile(r'[aeiou]') # Use [] if you want to search individual characters\n",
    "match=re.finditer(pattern,test_string)\n",
    "\n",
    "for i in match:\n",
    "    print(i)"
   ]
  },
  {
   "cell_type": "code",
   "execution_count": 7,
   "id": "11800e32",
   "metadata": {},
   "outputs": [
    {
     "name": "stdout",
     "output_type": "stream",
     "text": [
      "<re.Match object; span=(57, 58), match='2'>\n",
      "<re.Match object; span=(58, 59), match='2'>\n"
     ]
    }
   ],
   "source": [
    "pattern=re.compile(r'[0-9]')\n",
    "match=re.finditer(pattern,test_string2)\n",
    "\n",
    "for i in match:\n",
    "    print(i)"
   ]
  },
  {
   "cell_type": "code",
   "execution_count": 8,
   "id": "427d3207",
   "metadata": {},
   "outputs": [
    {
     "name": "stdout",
     "output_type": "stream",
     "text": [
      "<re.Match object; span=(0, 1), match='H'>\n",
      "<re.Match object; span=(11, 12), match='a'>\n",
      "<re.Match object; span=(28, 29), match='I'>\n",
      "<re.Match object; span=(39, 40), match='a'>\n",
      "<re.Match object; span=(52, 53), match='I'>\n",
      "<re.Match object; span=(54, 55), match='a'>\n",
      "<re.Match object; span=(57, 58), match='2'>\n",
      "<re.Match object; span=(58, 59), match='2'>\n",
      "<re.Match object; span=(62, 63), match='a'>\n"
     ]
    }
   ],
   "source": [
    "pattern=re.compile(r'[0-9a-cH-Z]')\n",
    "match=re.finditer(pattern,test_string2)\n",
    "\n",
    "for i in match:\n",
    "    print(i)"
   ]
  },
  {
   "cell_type": "code",
   "execution_count": 9,
   "id": "3a6dd61b",
   "metadata": {},
   "outputs": [],
   "source": [
    "test_string3='Hello$, What are you# doing%?'"
   ]
  },
  {
   "cell_type": "code",
   "execution_count": 10,
   "id": "9497f222",
   "metadata": {},
   "outputs": [],
   "source": [
    "pattern=re.compile(r'[^a-zA-Z0-9, ]') # ^ gives you the negation\n",
    "match=re.finditer(pattern,test_string3)"
   ]
  },
  {
   "cell_type": "code",
   "execution_count": 11,
   "id": "de341dd2",
   "metadata": {},
   "outputs": [
    {
     "name": "stdout",
     "output_type": "stream",
     "text": [
      "<re.Match object; span=(5, 6), match='$'>\n",
      "<re.Match object; span=(20, 21), match='#'>\n",
      "<re.Match object; span=(27, 28), match='%'>\n",
      "<re.Match object; span=(28, 29), match='?'>\n"
     ]
    }
   ],
   "source": [
    "for i in match:\n",
    "    print(i)"
   ]
  }
 ],
 "metadata": {
  "kernelspec": {
   "display_name": "Python 3",
   "language": "python",
   "name": "python3"
  },
  "language_info": {
   "codemirror_mode": {
    "name": "ipython",
    "version": 3
   },
   "file_extension": ".py",
   "mimetype": "text/x-python",
   "name": "python",
   "nbconvert_exporter": "python",
   "pygments_lexer": "ipython3",
   "version": "3.10.18"
  }
 },
 "nbformat": 4,
 "nbformat_minor": 5
}
