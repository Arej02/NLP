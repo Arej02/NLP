{
 "cells": [
  {
   "cell_type": "code",
   "execution_count": 1,
   "id": "33cf332b",
   "metadata": {},
   "outputs": [],
   "source": [
    "import re"
   ]
  },
  {
   "cell_type": "code",
   "execution_count": 2,
   "id": "ba844516",
   "metadata": {},
   "outputs": [],
   "source": [
    "test_string1='no nooo no noo noothing nooooooo'"
   ]
  },
  {
   "cell_type": "code",
   "execution_count": null,
   "id": "b04b7aa4",
   "metadata": {},
   "outputs": [
    {
     "name": "stdout",
     "output_type": "stream",
     "text": [
      "<re.Match object; span=(0, 2), match='no'>\n",
      "<re.Match object; span=(3, 7), match='nooo'>\n",
      "<re.Match object; span=(8, 10), match='no'>\n",
      "<re.Match object; span=(11, 14), match='noo'>\n",
      "<re.Match object; span=(15, 18), match='noo'>\n",
      "<re.Match object; span=(24, 32), match='nooooooo'>\n"
     ]
    }
   ],
   "source": [
    "pattern=re.compile(r'noo*') # The character before * (o) in this case can occur 0 or more times\n",
    "match=re.finditer(pattern,test_string1)\n",
    "for i in match:\n",
    "    print(i)"
   ]
  },
  {
   "cell_type": "code",
   "execution_count": null,
   "id": "82170916",
   "metadata": {},
   "outputs": [
    {
     "name": "stdout",
     "output_type": "stream",
     "text": [
      "<re.Match object; span=(3, 7), match='nooo'>\n",
      "<re.Match object; span=(11, 14), match='noo'>\n",
      "<re.Match object; span=(15, 18), match='noo'>\n",
      "<re.Match object; span=(24, 32), match='nooooooo'>\n"
     ]
    }
   ],
   "source": [
    "pattern=re.compile(r'noo+') # The character before + (o) in this case can occur 1 or more times\n",
    "match=re.finditer(pattern,test_string1)\n",
    "for i in match:\n",
    "    print(i)"
   ]
  },
  {
   "cell_type": "code",
   "execution_count": 5,
   "id": "9cb64bc9",
   "metadata": {},
   "outputs": [
    {
     "name": "stdout",
     "output_type": "stream",
     "text": [
      "<re.Match object; span=(0, 2), match='no'>\n",
      "<re.Match object; span=(3, 6), match='noo'>\n",
      "<re.Match object; span=(8, 10), match='no'>\n",
      "<re.Match object; span=(11, 14), match='noo'>\n",
      "<re.Match object; span=(15, 18), match='noo'>\n",
      "<re.Match object; span=(24, 27), match='noo'>\n"
     ]
    }
   ],
   "source": [
    "pattern=re.compile(r'noo?') # The character before ? (o) in this case can occur 1 or 0 times\n",
    "match=re.finditer(pattern,test_string1)\n",
    "for i in match:\n",
    "    print(i)"
   ]
  },
  {
   "cell_type": "code",
   "execution_count": 8,
   "id": "f9a09153",
   "metadata": {},
   "outputs": [],
   "source": [
    "test_string2='The colour is good, but the sky color is bad'"
   ]
  },
  {
   "cell_type": "code",
   "execution_count": null,
   "id": "96fc3f58",
   "metadata": {},
   "outputs": [
    {
     "name": "stdout",
     "output_type": "stream",
     "text": [
      "<re.Match object; span=(4, 10), match='colour'>\n",
      "<re.Match object; span=(32, 37), match='color'>\n"
     ]
    }
   ],
   "source": [
    "pattern=re.compile(r'colou?r') # As color and colour means same we can keep u optional by using ?\n",
    "match=re.finditer(pattern,test_string2)\n",
    "for i in match:\n",
    "    print(i)"
   ]
  },
  {
   "cell_type": "code",
   "execution_count": 11,
   "id": "1b4acf65",
   "metadata": {},
   "outputs": [
    {
     "name": "stdout",
     "output_type": "stream",
     "text": [
      "<re.Match object; span=(0, 3), match='aaa'>\n",
      "<re.Match object; span=(3, 6), match='aaa'>\n",
      "<re.Match object; span=(7, 10), match='aaa'>\n",
      "<re.Match object; span=(17, 20), match='aaa'>\n",
      "<re.Match object; span=(20, 23), match='aaa'>\n",
      "<re.Match object; span=(23, 26), match='aaa'>\n"
     ]
    }
   ],
   "source": [
    "test_string3='aaaaaaXaaaaaXCaaCaaaaaaaaa'\n",
    "pattern=re.compile(r'a{3}') \n",
    "match=re.finditer(pattern,test_string3)\n",
    "for i in match:\n",
    "    print(i)"
   ]
  },
  {
   "cell_type": "code",
   "execution_count": 12,
   "id": "83947161",
   "metadata": {},
   "outputs": [
    {
     "name": "stdout",
     "output_type": "stream",
     "text": [
      "<re.Match object; span=(0, 5), match='aaaaa'>\n",
      "<re.Match object; span=(7, 12), match='aaaaa'>\n",
      "<re.Match object; span=(14, 16), match='aa'>\n",
      "<re.Match object; span=(17, 22), match='aaaaa'>\n",
      "<re.Match object; span=(22, 26), match='aaaa'>\n"
     ]
    }
   ],
   "source": [
    "test_string3='aaaaaaXaaaaaXCaaCaaaaaaaaa'\n",
    "pattern=re.compile(r'a{2,5}') \n",
    "match=re.finditer(pattern,test_string3)\n",
    "for i in match:\n",
    "    print(i)"
   ]
  }
 ],
 "metadata": {
  "kernelspec": {
   "display_name": "mlenv",
   "language": "python",
   "name": "python3"
  },
  "language_info": {
   "codemirror_mode": {
    "name": "ipython",
    "version": 3
   },
   "file_extension": ".py",
   "mimetype": "text/x-python",
   "name": "python",
   "nbconvert_exporter": "python",
   "pygments_lexer": "ipython3",
   "version": "3.10.18"
  }
 },
 "nbformat": 4,
 "nbformat_minor": 5
}
